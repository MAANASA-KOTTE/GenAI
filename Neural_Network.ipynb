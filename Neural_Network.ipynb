{
  "nbformat": 4,
  "nbformat_minor": 0,
  "metadata": {
    "colab": {
      "provenance": [],
      "authorship_tag": "ABX9TyOHp5YDcYgOdSyx92fZOmeV",
      "include_colab_link": true
    },
    "kernelspec": {
      "name": "python3",
      "display_name": "Python 3"
    },
    "language_info": {
      "name": "python"
    }
  },
  "cells": [
    {
      "cell_type": "markdown",
      "metadata": {
        "id": "view-in-github",
        "colab_type": "text"
      },
      "source": [
        "<a href=\"https://colab.research.google.com/github/MAANASA-KOTTE/GenAI/blob/main/Neural_Network.ipynb\" target=\"_parent\"><img src=\"https://colab.research.google.com/assets/colab-badge.svg\" alt=\"Open In Colab\"/></a>"
      ]
    },
    {
      "cell_type": "markdown",
      "source": [
        "# **Implementing a Neural Network using python modules**"
      ],
      "metadata": {
        "id": "dMg_rJnbuUZN"
      }
    },
    {
      "cell_type": "code",
      "execution_count": 30,
      "metadata": {
        "id": "n0qSiGtMyDvF"
      },
      "outputs": [],
      "source": [
        "from tensorflow.keras.datasets import mnist"
      ]
    },
    {
      "cell_type": "code",
      "source": [
        "(x_train, y_train),(x_test,y_test)=mnist.load_data()"
      ],
      "metadata": {
        "id": "sw7IYrGEyoaf"
      },
      "execution_count": 31,
      "outputs": []
    },
    {
      "cell_type": "code",
      "source": [
        "x_train=x_train/255\n",
        "x_test=x_test/255"
      ],
      "metadata": {
        "id": "N5kQO8ZPmaRi"
      },
      "execution_count": 32,
      "outputs": []
    },
    {
      "cell_type": "code",
      "source": [
        "import matplotlib.pyplot as plt\n",
        "plt.imshow(x_train[5])\n",
        "plt.title(f'Image label=,y_train[5]')\n",
        "plt.show()"
      ],
      "metadata": {
        "colab": {
          "base_uri": "https://localhost:8080/",
          "height": 452
        },
        "id": "aU94qGk6y9Y0",
        "outputId": "db03cb18-959c-4366-d6b9-e8caf893fe4d"
      },
      "execution_count": 33,
      "outputs": [
        {
          "output_type": "display_data",
          "data": {
            "text/plain": [
              "<Figure size 640x480 with 1 Axes>"
            ],
            "image/png": "[encoded data removed]"
          },
          "metadata": {}
        }
      ]
    },
    {
      "cell_type": "code",
      "source": [
        "from tensorflow.keras.layers import Dense, Flatten\n",
        "from tensorflow.keras.models import Sequential\n",
        "from tensorflow.keras.utils import to_categorical"
      ],
      "metadata": {
        "id": "nHvy18cSmNje"
      },
      "execution_count": 34,
      "outputs": []
    },
    {
      "cell_type": "code",
      "source": [
        "model=Sequential([\n",
        "    Flatten(input_shape=(28,28)), #input layer= 784 nuerons\n",
        "    Dense(128,activation='relu'), #hidden layer= 5 neurons\n",
        "    Dense(10,activation='softmax') #output layer= 10 nuerons\n",
        "])"
      ],
      "metadata": {
        "colab": {
          "base_uri": "https://localhost:8080/"
        },
        "id": "YU-r1oyGm8De",
        "outputId": "22d98e2b-a55d-4bcf-aacb-eef2127f977e"
      },
      "execution_count": 35,
      "outputs": [
        {
          "output_type": "stream",
          "name": "stderr",
          "text": [
            "/usr/local/lib/python3.11/dist-packages/keras/src/layers/reshaping/flatten.py:37: UserWarning: Do not pass an `input_shape`/`input_dim` argument to a layer. When using Sequential models, prefer using an `Input(shape)` object as the first layer in the model instead.\n",
            "  super().__init__(**kwargs)\n"
          ]
        }
      ]
    },
    {
      "cell_type": "code",
      "source": [
        "model.summary()"
      ],
      "metadata": {
        "colab": {
          "base_uri": "https://localhost:8080/",
          "height": 225
        },
        "id": "Bn6hxvUUnw8Z",
        "outputId": "6b72a446-941d-444d-d271-5a51c0be1731"
      },
      "execution_count": 36,
      "outputs": [
        {
          "output_type": "display_data",
          "data": {
            "text/plain": [
              "\u001b[1mModel: \"sequential_2\"\u001b[0m\n"
            ],
            "text/html": [
              "<pre style=\"white-space:pre;overflow-x:auto;line-height:normal;font-family:Menlo,'DejaVu Sans Mono',consolas,'Courier New',monospace\"><span style=\"font-weight: bold\">Model: \"sequential_2\"</span>\n",
              "</pre>\n"
            ]
          },
          "metadata": {}
        },
        {
          "output_type": "display_data",
          "data": {
            "text/plain": [
              "┏━━━━━━━━━━━━━━━━━━━━━━━━━━━━━━━━━┳━━━━━━━━━━━━━━━━━━━━━━━━┳━━━━━━━━━━━━━━━┓\n",
              "┃\u001b[1m \u001b[0m\u001b[1mLayer (type)                   \u001b[0m\u001b[1m \u001b[0m┃\u001b[1m \u001b[0m\u001b[1mOutput Shape          \u001b[0m\u001b[1m \u001b[0m┃\u001b[1m \u001b[0m\u001b[1m      Param #\u001b[0m\u001b[1m \u001b[0m┃\n",
              "┡━━━━━━━━━━━━━━━━━━━━━━━━━━━━━━━━━╇━━━━━━━━━━━━━━━━━━━━━━━━╇━━━━━━━━━━━━━━━┩\n",
              "│ flatten_1 (\u001b[38;5;33mFlatten\u001b[0m)             │ (\u001b[38;5;45mNone\u001b[0m, \u001b[38;5;34m784\u001b[0m)            │             \u001b[38;5;34m0\u001b[0m │\n",
              "├─────────────────────────────────┼────────────────────────┼───────────────┤\n",
              "│ dense_2 (\u001b[38;5;33mDense\u001b[0m)                 │ (\u001b[38;5;45mNone\u001b[0m, \u001b[38;5;34m128\u001b[0m)            │       \u001b[38;5;34m100,480\u001b[0m │\n",
              "├─────────────────────────────────┼────────────────────────┼───────────────┤\n",
              "│ dense_3 (\u001b[38;5;33mDense\u001b[0m)                 │ (\u001b[38;5;45mNone\u001b[0m, \u001b[38;5;34m10\u001b[0m)             │         \u001b[38;5;34m1,290\u001b[0m │\n",
              "└─────────────────────────────────┴────────────────────────┴───────────────┘\n"
            ],
            "text/html": [
              "<pre style=\"white-space:pre;overflow-x:auto;line-height:normal;font-family:Menlo,'DejaVu Sans Mono',consolas,'Courier New',monospace\">┏━━━━━━━━━━━━━━━━━━━━━━━━━━━━━━━━━┳━━━━━━━━━━━━━━━━━━━━━━━━┳━━━━━━━━━━━━━━━┓\n",
              "┃<span style=\"font-weight: bold\"> Layer (type)                    </span>┃<span style=\"font-weight: bold\"> Output Shape           </span>┃<span style=\"font-weight: bold\">       Param # </span>┃\n",
              "┡━━━━━━━━━━━━━━━━━━━━━━━━━━━━━━━━━╇━━━━━━━━━━━━━━━━━━━━━━━━╇━━━━━━━━━━━━━━━┩\n",
              "│ flatten_1 (<span style=\"color: #0087ff; text-decoration-color: #0087ff\">Flatten</span>)             │ (<span style=\"color: #00d7ff; text-decoration-color: #00d7ff\">None</span>, <span style=\"color: #00af00; text-decoration-color: #00af00\">784</span>)            │             <span style=\"color: #00af00; text-decoration-color: #00af00\">0</span> │\n",
              "├─────────────────────────────────┼────────────────────────┼───────────────┤\n",
              "│ dense_2 (<span style=\"color: #0087ff; text-decoration-color: #0087ff\">Dense</span>)                 │ (<span style=\"color: #00d7ff; text-decoration-color: #00d7ff\">None</span>, <span style=\"color: #00af00; text-decoration-color: #00af00\">128</span>)            │       <span style=\"color: #00af00; text-decoration-color: #00af00\">100,480</span> │\n",
              "├─────────────────────────────────┼────────────────────────┼───────────────┤\n",
              "│ dense_3 (<span style=\"color: #0087ff; text-decoration-color: #0087ff\">Dense</span>)                 │ (<span style=\"color: #00d7ff; text-decoration-color: #00d7ff\">None</span>, <span style=\"color: #00af00; text-decoration-color: #00af00\">10</span>)             │         <span style=\"color: #00af00; text-decoration-color: #00af00\">1,290</span> │\n",
              "└─────────────────────────────────┴────────────────────────┴───────────────┘\n",
              "</pre>\n"
            ]
          },
          "metadata": {}
        },
        {
          "output_type": "display_data",
          "data": {
            "text/plain": [
              "\u001b[1m Total params: \u001b[0m\u001b[38;5;34m101,770\u001b[0m (397.54 KB)\n"
            ],
            "text/html": [
              "<pre style=\"white-space:pre;overflow-x:auto;line-height:normal;font-family:Menlo,'DejaVu Sans Mono',consolas,'Courier New',monospace\"><span style=\"font-weight: bold\"> Total params: </span><span style=\"color: #00af00; text-decoration-color: #00af00\">101,770</span> (397.54 KB)\n",
              "</pre>\n"
            ]
          },
          "metadata": {}
        },
        {
          "output_type": "display_data",
          "data": {
            "text/plain": [
              "\u001b[1m Trainable params: \u001b[0m\u001b[38;5;34m101,770\u001b[0m (397.54 KB)\n"
            ],
            "text/html": [
              "<pre style=\"white-space:pre;overflow-x:auto;line-height:normal;font-family:Menlo,'DejaVu Sans Mono',consolas,'Courier New',monospace\"><span style=\"font-weight: bold\"> Trainable params: </span><span style=\"color: #00af00; text-decoration-color: #00af00\">101,770</span> (397.54 KB)\n",
              "</pre>\n"
            ]
          },
          "metadata": {}
        },
        {
          "output_type": "display_data",
          "data": {
            "text/plain": [
              "\u001b[1m Non-trainable params: \u001b[0m\u001b[38;5;34m0\u001b[0m (0.00 B)\n"
            ],
            "text/html": [
              "<pre style=\"white-space:pre;overflow-x:auto;line-height:normal;font-family:Menlo,'DejaVu Sans Mono',consolas,'Courier New',monospace\"><span style=\"font-weight: bold\"> Non-trainable params: </span><span style=\"color: #00af00; text-decoration-color: #00af00\">0</span> (0.00 B)\n",
              "</pre>\n"
            ]
          },
          "metadata": {}
        }
      ]
    },
    {
      "cell_type": "code",
      "source": [
        "model.compile(optimizer='adam',loss='categorical_crossentropy',metrics=['accuracy'])\n",
        "\n",
        "# Compile says how the back propogation is gonna happen. HOw to identify the loss and reduce it."
      ],
      "metadata": {
        "id": "STfKYfPSn10a"
      },
      "execution_count": 38,
      "outputs": []
    },
    {
      "cell_type": "code",
      "source": [
        "y_train_categorical = to_categorical(y_train, num_classes=10)\n",
        "y_test_categorical = to_categorical(y_test, num_classes=10)"
      ],
      "metadata": {
        "id": "oafav9RsogiZ"
      },
      "execution_count": 37,
      "outputs": []
    },
    {
      "cell_type": "code",
      "source": [
        "# Train the model\n",
        "model.fit(x_train, y_train_categorical, epochs=5, batch_size=32, verbose=2)"
      ],
      "metadata": {
        "colab": {
          "base_uri": "https://localhost:8080/"
        },
        "id": "OP9Ns16jtLzq",
        "outputId": "d6eab60e-6928-4d5b-d9cc-9c3129d9ea67"
      },
      "execution_count": 39,
      "outputs": [
        {
          "output_type": "stream",
          "name": "stdout",
          "text": [
            "Epoch 1/5\n",
            "1875/1875 - 8s - 4ms/step - accuracy: 0.9255 - loss: 0.2585\n",
            "Epoch 2/5\n",
            "1875/1875 - 6s - 3ms/step - accuracy: 0.9664 - loss: 0.1144\n",
            "Epoch 3/5\n",
            "1875/1875 - 7s - 4ms/step - accuracy: 0.9769 - loss: 0.0781\n",
            "Epoch 4/5\n",
            "1875/1875 - 5s - 3ms/step - accuracy: 0.9819 - loss: 0.0596\n",
            "Epoch 5/5\n",
            "1875/1875 - 10s - 6ms/step - accuracy: 0.9860 - loss: 0.0450\n"
          ]
        },
        {
          "output_type": "execute_result",
          "data": {
            "text/plain": [
              "<keras.src.callbacks.history.History at 0x79cfe41a9a10>"
            ]
          },
          "metadata": {},
          "execution_count": 39
        }
      ]
    },
    {
      "cell_type": "code",
      "source": [
        "model.evaluate(x_test,y_test_categorical)"
      ],
      "metadata": {
        "colab": {
          "base_uri": "https://localhost:8080/"
        },
        "id": "tfhr8L3htp-k",
        "outputId": "c1a2ca73-441e-4810-b089-c50fded865e9"
      },
      "execution_count": 40,
      "outputs": [
        {
          "output_type": "stream",
          "name": "stdout",
          "text": [
            "\u001b[1m313/313\u001b[0m \u001b[32m━━━━━━━━━━━━━━━━━━━━\u001b[0m\u001b[37m\u001b[0m \u001b[1m1s\u001b[0m 2ms/step - accuracy: 0.9697 - loss: 0.0948\n"
          ]
        },
        {
          "output_type": "execute_result",
          "data": {
            "text/plain": [
              "[0.07971552759408951, 0.9742000102996826]"
            ]
          },
          "metadata": {},
          "execution_count": 40
        }
      ]
    },
    {
      "cell_type": "code",
      "source": [
        "model.save('mnist.h5')"
      ],
      "metadata": {
        "colab": {
          "base_uri": "https://localhost:8080/"
        },
        "id": "qdeZCty8t1G_",
        "outputId": "b44205a1-b5dc-4ba3-9c76-744cc56163a0"
      },
      "execution_count": 42,
      "outputs": [
        {
          "output_type": "stream",
          "name": "stderr",
          "text": [
            "WARNING:absl:You are saving your model as an HDF5 file via `model.save()` or `keras.saving.save_model(model)`. This file format is considered legacy. We recommend using instead the native Keras format, e.g. `model.save('my_model.keras')` or `keras.saving.save_model(model, 'my_model.keras')`. \n"
          ]
        }
      ]
    },
    {
      "cell_type": "code",
      "source": [
        "model.get_weights()"
      ],
      "metadata": {
        "colab": {
          "base_uri": "https://localhost:8080/"
        },
        "id": "wottN9fTt9A3",
        "outputId": "0790c22d-e916-429b-ea7b-e362eb8b7286"
      },
      "execution_count": 43,
      "outputs": [
        {
          "output_type": "execute_result",
          "data": {
            "text/plain": [
              "[array([[-0.01308946,  0.00501121,  0.01207168, ...,  0.06493989,\n",
              "         -0.03768924, -0.07586589],\n",
              "        [-0.07780678,  0.04249638, -0.01524866, ...,  0.03564142,\n",
              "          0.06156532, -0.00014742],\n",
              "        [ 0.01007117, -0.0720911 ,  0.04148864, ..., -0.05422278,\n",
              "          0.01664859,  0.00909602],\n",
              "        ...,\n",
              "        [ 0.06752259,  0.07368577,  0.06190263, ..., -0.02556305,\n",
              "          0.07743742, -0.07034788],\n",
              "        [-0.04505077,  0.01152509,  0.06862781, ...,  0.05011041,\n",
              "         -0.00685278, -0.01286469],\n",
              "        [-0.02566898, -0.0271719 , -0.06533354, ...,  0.02163634,\n",
              "          0.03580154, -0.06840417]], dtype=float32),\n",
              " array([ 0.0191769 ,  0.18956895,  0.02074302, -0.02420517, -0.02114359,\n",
              "         0.05471792,  0.1003504 , -0.05389   , -0.11758858,  0.07962478,\n",
              "        -0.00441136, -0.01419159,  0.05972051, -0.0269381 ,  0.04403534,\n",
              "         0.05063039, -0.01589908,  0.08176269,  0.07136685,  0.09097122,\n",
              "        -0.02451944,  0.1674    ,  0.01609475,  0.06141913, -0.10269877,\n",
              "        -0.02482686,  0.08906151, -0.03050853, -0.02675863,  0.0983638 ,\n",
              "         0.17588688, -0.00656937,  0.15372984,  0.02374001, -0.10362686,\n",
              "         0.07823489, -0.03144865, -0.11507655, -0.08908971,  0.08744352,\n",
              "        -0.01399586,  0.12645566, -0.02952974,  0.13761742,  0.06517409,\n",
              "        -0.02307926,  0.15979867, -0.00521244,  0.03194131,  0.11568545,\n",
              "         0.05174404,  0.02960173,  0.11430527, -0.02058713, -0.05624072,\n",
              "         0.1054173 ,  0.02512456, -0.05689222,  0.10821386, -0.03922182,\n",
              "        -0.14396486, -0.11206917,  0.04780545,  0.05708678, -0.0146668 ,\n",
              "        -0.12174635,  0.01900602,  0.11330505,  0.02453779,  0.11767459,\n",
              "         0.03522482, -0.01251742,  0.0630703 ,  0.09480848,  0.02845366,\n",
              "        -0.09245791, -0.00340449, -0.06674308,  0.13685371,  0.13052598,\n",
              "         0.1677343 , -0.00407599,  0.06622358, -0.02349039,  0.13628322,\n",
              "         0.13304324,  0.16143093, -0.01347219,  0.028876  ,  0.09001993,\n",
              "        -0.11242194, -0.07908051,  0.00441489, -0.12828761, -0.01740307,\n",
              "         0.09796759,  0.09100356, -0.04965994,  0.04392282,  0.10891093,\n",
              "        -0.01217214, -0.03649552,  0.09341741,  0.03103589, -0.08389565,\n",
              "         0.07590294,  0.05011245,  0.11759394,  0.15164956, -0.04646702,\n",
              "         0.19960748,  0.08661292, -0.12180234,  0.1275199 , -0.05716329,\n",
              "        -0.13554059, -0.0221318 ,  0.05060176, -0.06236547,  0.00418094,\n",
              "        -0.09215864,  0.013254  ,  0.00077405, -0.00447921,  0.03018131,\n",
              "        -0.08229653,  0.02178643,  0.1666774 ], dtype=float32),\n",
              " array([[-0.24454166, -0.49950308,  0.3199108 , ..., -0.5280043 ,\n",
              "          0.17957176,  0.37530807],\n",
              "        [-0.10469445, -0.01659849, -0.6038769 , ...,  0.04782   ,\n",
              "          0.1686665 ,  0.27677292],\n",
              "        [-0.4978754 , -0.5940821 , -0.50632036, ...,  0.11227559,\n",
              "         -0.15479568,  0.10869803],\n",
              "        ...,\n",
              "        [ 0.27009833, -0.62474066,  0.13970885, ...,  0.1951817 ,\n",
              "         -0.05570254,  0.24839461],\n",
              "        [ 0.23602422, -0.6463402 , -0.07784971, ...,  0.28377265,\n",
              "         -0.54025966,  0.28683454],\n",
              "        [-0.14340329,  0.24076784,  0.2531974 , ...,  0.07782133,\n",
              "         -0.34836975, -0.08693466]], dtype=float32),\n",
              " array([-0.13981399,  0.01066876, -0.00728606, -0.12226807,  0.09303548,\n",
              "         0.01267249, -0.06109631, -0.03851511,  0.2191625 , -0.04700854],\n",
              "       dtype=float32)]"
            ]
          },
          "metadata": {},
          "execution_count": 43
        }
      ]
    }
  ]
}